{
 "cells": [
  {
   "cell_type": "markdown",
   "id": "f45f122f-82d8-4d37-9540-efa050ff4856",
   "metadata": {
    "tags": []
   },
   "source": [
    "# Data Processing Scripts for PMFP"
   ]
  },
  {
   "cell_type": "code",
   "execution_count": 3,
   "id": "3e6734dd-1542-4722-8408-87d134918b40",
   "metadata": {
    "tags": []
   },
   "outputs": [],
   "source": [
    "import io\n",
    "import boto3\n",
    "import pandas as pd\n",
    "\n",
    "def read_feather_file_from_s3(s3_url):\n",
    "    assert s3_url.startswith(\"s3://\")\n",
    "    bucket_name, key_name = s3_url[5:].split(\"/\", 1)\n",
    "\n",
    "    s3 = boto3.client('s3')\n",
    "    retr = s3.get_object(Bucket=bucket_name, Key=key_name)\n",
    "    \n",
    "    return pd.read_feather(io.BytesIO(retr['Body'].read()))"
   ]
  },
  {
   "cell_type": "code",
   "execution_count": 12,
   "id": "fd3789a4-f222-4b3d-93ca-b868379279b6",
   "metadata": {
    "tags": []
   },
   "outputs": [],
   "source": [
    "# FILES = [\"s3://pmpf-data/iot_pmfp_data.feather\", ]\n",
    "# NAMES = [\"data.csv\"]\n",
    "FILES = [\"s3://pmpf-data/iot_pmfp_labels.feather\"]\n",
    "NAMES = [\"labels.csv\"]"
   ]
  },
  {
   "cell_type": "code",
   "execution_count": 14,
   "id": "87acbcf4-6ffe-4efd-95e3-d2c0e2dfda51",
   "metadata": {
    "tags": []
   },
   "outputs": [],
   "source": [
    "s3 = boto3.resource('s3')\n",
    "\n",
    "for file, name in zip(FILES, NAMES):\n",
    "    df = read_feather_file_from_s3(file)\n",
    "    df.to_csv(name)\n",
    "    s3.meta.client.upload_file(name, 'pmpf-data', name)"
   ]
  },
  {
   "cell_type": "code",
   "execution_count": null,
   "id": "2f32b7e7-8f98-49c9-9cb3-b9a9e1c098d5",
   "metadata": {},
   "outputs": [],
   "source": []
  }
 ],
 "metadata": {
  "instance_type": "ml.t3.medium",
  "kernelspec": {
   "display_name": "Python 3 (Data Science)",
   "language": "python",
   "name": "python3__SAGEMAKER_INTERNAL__arn:aws:sagemaker:us-west-1:742091327244:image/datascience-1.0"
  },
  "language_info": {
   "codemirror_mode": {
    "name": "ipython",
    "version": 3
   },
   "file_extension": ".py",
   "mimetype": "text/x-python",
   "name": "python",
   "nbconvert_exporter": "python",
   "pygments_lexer": "ipython3",
   "version": "3.7.10"
  }
 },
 "nbformat": 4,
 "nbformat_minor": 5
}
